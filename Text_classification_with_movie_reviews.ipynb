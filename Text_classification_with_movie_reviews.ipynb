{
 "cells": [
  {
   "cell_type": "code",
   "execution_count": 1,
   "metadata": {},
   "outputs": [
    {
     "name": "stdout",
     "output_type": "stream",
     "text": [
      "1.10.0\n"
     ]
    }
   ],
   "source": [
    "import tensorflow as tf\n",
    "from tensorflow import keras\n",
    "\n",
    "import numpy as np\n",
    "\n",
    "print(tf.__version__)"
   ]
  },
  {
   "cell_type": "code",
   "execution_count": 4,
   "metadata": {},
   "outputs": [],
   "source": [
    "imdb = keras.datasets.imdb\n",
    "\n",
    "(train_data, train_labels), (test_data, test_labels) = imdb.load_data(num_words=10000)"
   ]
  },
  {
   "cell_type": "markdown",
   "metadata": {},
   "source": [
    "# Explore the data"
   ]
  },
  {
   "cell_type": "code",
   "execution_count": 29,
   "metadata": {},
   "outputs": [
    {
     "name": "stdout",
     "output_type": "stream",
     "text": [
      "Training entries: 25000, labels: 25000\n",
      "Testing entries: 25000, labels: 25000\n"
     ]
    }
   ],
   "source": [
    "print('Training entries: {}, labels: {}'.format(len(train_data), len(train_labels)))\n",
    "print('Testing entries: {}, labels: {}'.format(len(test_data), len(test_labels)))"
   ]
  },
  {
   "cell_type": "code",
   "execution_count": 6,
   "metadata": {
    "scrolled": false
   },
   "outputs": [
    {
     "name": "stdout",
     "output_type": "stream",
     "text": [
      "[1, 14, 22, 16, 43, 530, 973, 1622, 1385, 65, 458, 4468, 66, 3941, 4, 173, 36, 256, 5, 25, 100, 43, 838, 112, 50, 670, 2, 9, 35, 480, 284, 5, 150, 4, 172, 112, 167, 2, 336, 385, 39, 4, 172, 4536, 1111, 17, 546, 38, 13, 447, 4, 192, 50, 16, 6, 147, 2025, 19, 14, 22, 4, 1920, 4613, 469, 4, 22, 71, 87, 12, 16, 43, 530, 38, 76, 15, 13, 1247, 4, 22, 17, 515, 17, 12, 16, 626, 18, 2, 5, 62, 386, 12, 8, 316, 8, 106, 5, 4, 2223, 5244, 16, 480, 66, 3785, 33, 4, 130, 12, 16, 38, 619, 5, 25, 124, 51, 36, 135, 48, 25, 1415, 33, 6, 22, 12, 215, 28, 77, 52, 5, 14, 407, 16, 82, 2, 8, 4, 107, 117, 5952, 15, 256, 4, 2, 7, 3766, 5, 723, 36, 71, 43, 530, 476, 26, 400, 317, 46, 7, 4, 2, 1029, 13, 104, 88, 4, 381, 15, 297, 98, 32, 2071, 56, 26, 141, 6, 194, 7486, 18, 4, 226, 22, 21, 134, 476, 26, 480, 5, 144, 30, 5535, 18, 51, 36, 28, 224, 92, 25, 104, 4, 226, 65, 16, 38, 1334, 88, 12, 16, 283, 5, 16, 4472, 113, 103, 32, 15, 16, 5345, 19, 178, 32]\n"
     ]
    }
   ],
   "source": [
    "print(train_data[0])"
   ]
  },
  {
   "cell_type": "code",
   "execution_count": 7,
   "metadata": {},
   "outputs": [
    {
     "data": {
      "text/plain": [
       "(218, 189)"
      ]
     },
     "execution_count": 7,
     "metadata": {},
     "output_type": "execute_result"
    }
   ],
   "source": [
    "len(train_data[0]), len(train_data[1])"
   ]
  },
  {
   "cell_type": "markdown",
   "metadata": {},
   "source": [
    "# Convert the integers back to words"
   ]
  },
  {
   "cell_type": "code",
   "execution_count": 11,
   "metadata": {},
   "outputs": [],
   "source": [
    "# A dictionary mapping words to an integer index\n",
    "word_index = imdb.get_word_index()\n",
    "\n",
    "# The first three indices are reserved\n",
    "word_index = {k:(v+3) for k,v in word_index.items()}\n",
    "word_index['<PAD>'] = 0\n",
    "word_index['<START>'] = 1\n",
    "word_index['<UNK>'] = 2\n",
    "word_index['<UNUSED>'] = 3\n",
    "\n",
    "reverse_word_index = dict([(value, key) for (key, value) in word_index.items()])\n",
    "\n",
    "def decode_review(text):\n",
    "    return ' '.join([reverse_word_index.get(i, '?') for i in text])"
   ]
  },
  {
   "cell_type": "code",
   "execution_count": 12,
   "metadata": {},
   "outputs": [
    {
     "data": {
      "text/plain": [
       "\"<START> this film was just brilliant casting location scenery story direction everyone's really suited the part they played and you could just imagine being there robert <UNK> is an amazing actor and now the same being director <UNK> father came from the same scottish island as myself so i loved the fact there was a real connection with this film the witty remarks throughout the film were great it was just brilliant so much that i bought the film as soon as it was released for <UNK> and would recommend it to everyone to watch and the fly fishing was amazing really cried at the end it was so sad and you know what they say if you cry at a film it must have been good and this definitely was also <UNK> to the two little boy's that played the <UNK> of norman and paul they were just brilliant children are often left out of the <UNK> list i think because the stars that play them all grown up are such a big profile for the whole film but these children are amazing and should be praised for what they have done don't you think the whole story was so lovely because it was true and was someone's life after all that was shared with us all\""
      ]
     },
     "execution_count": 12,
     "metadata": {},
     "output_type": "execute_result"
    }
   ],
   "source": [
    "decode_review(train_data[0])"
   ]
  },
  {
   "cell_type": "markdown",
   "metadata": {},
   "source": [
    "# Prepare the data"
   ]
  },
  {
   "cell_type": "code",
   "execution_count": 13,
   "metadata": {},
   "outputs": [],
   "source": [
    "train_data = keras.preprocessing.sequence.pad_sequences(train_data,\n",
    "                                                       value=word_index['<PAD>'],\n",
    "                                                       padding='post',\n",
    "                                                       maxlen=256)\n",
    "test_data = keras.preprocessing.sequence.pad_sequences(test_data,\n",
    "                                                       value=word_index['<PAD>'],\n",
    "                                                       padding='post',\n",
    "                                                       maxlen=256)"
   ]
  },
  {
   "cell_type": "code",
   "execution_count": 14,
   "metadata": {},
   "outputs": [
    {
     "data": {
      "text/plain": [
       "(256, 256)"
      ]
     },
     "execution_count": 14,
     "metadata": {},
     "output_type": "execute_result"
    }
   ],
   "source": [
    "len(train_data[0]), len(train_data[1])"
   ]
  },
  {
   "cell_type": "code",
   "execution_count": 15,
   "metadata": {},
   "outputs": [
    {
     "name": "stdout",
     "output_type": "stream",
     "text": [
      "[   1   14   22   16   43  530  973 1622 1385   65  458 4468   66 3941\n",
      "    4  173   36  256    5   25  100   43  838  112   50  670    2    9\n",
      "   35  480  284    5  150    4  172  112  167    2  336  385   39    4\n",
      "  172 4536 1111   17  546   38   13  447    4  192   50   16    6  147\n",
      " 2025   19   14   22    4 1920 4613  469    4   22   71   87   12   16\n",
      "   43  530   38   76   15   13 1247    4   22   17  515   17   12   16\n",
      "  626   18    2    5   62  386   12    8  316    8  106    5    4 2223\n",
      " 5244   16  480   66 3785   33    4  130   12   16   38  619    5   25\n",
      "  124   51   36  135   48   25 1415   33    6   22   12  215   28   77\n",
      "   52    5   14  407   16   82    2    8    4  107  117 5952   15  256\n",
      "    4    2    7 3766    5  723   36   71   43  530  476   26  400  317\n",
      "   46    7    4    2 1029   13  104   88    4  381   15  297   98   32\n",
      " 2071   56   26  141    6  194 7486   18    4  226   22   21  134  476\n",
      "   26  480    5  144   30 5535   18   51   36   28  224   92   25  104\n",
      "    4  226   65   16   38 1334   88   12   16  283    5   16 4472  113\n",
      "  103   32   15   16 5345   19  178   32    0    0    0    0    0    0\n",
      "    0    0    0    0    0    0    0    0    0    0    0    0    0    0\n",
      "    0    0    0    0    0    0    0    0    0    0    0    0    0    0\n",
      "    0    0    0    0]\n"
     ]
    }
   ],
   "source": [
    "print(train_data[0])"
   ]
  },
  {
   "cell_type": "markdown",
   "metadata": {},
   "source": [
    "# Build the model"
   ]
  },
  {
   "cell_type": "code",
   "execution_count": 16,
   "metadata": {},
   "outputs": [
    {
     "name": "stdout",
     "output_type": "stream",
     "text": [
      "_________________________________________________________________\n",
      "Layer (type)                 Output Shape              Param #   \n",
      "=================================================================\n",
      "embedding (Embedding)        (None, None, 16)          160000    \n",
      "_________________________________________________________________\n",
      "global_average_pooling1d (Gl (None, 16)                0         \n",
      "_________________________________________________________________\n",
      "dense (Dense)                (None, 16)                272       \n",
      "_________________________________________________________________\n",
      "dense_1 (Dense)              (None, 1)                 17        \n",
      "=================================================================\n",
      "Total params: 160,289\n",
      "Trainable params: 160,289\n",
      "Non-trainable params: 0\n",
      "_________________________________________________________________\n"
     ]
    }
   ],
   "source": [
    "vocab_size = 10000\n",
    "\n",
    "model = keras.Sequential()\n",
    "model.add(keras.layers.Embedding(vocab_size, 16))\n",
    "model.add(keras.layers.GlobalAveragePooling1D())\n",
    "model.add(keras.layers.Dense(16, activation=tf.nn.relu))\n",
    "model.add(keras.layers.Dense(1, activation=tf.nn.sigmoid))\n",
    "\n",
    "model.summary()"
   ]
  },
  {
   "cell_type": "code",
   "execution_count": 17,
   "metadata": {},
   "outputs": [],
   "source": [
    "model.compile(optimizer=tf.train.AdamOptimizer(),\n",
    "             loss='binary_crossentropy',\n",
    "             metrics=['accuracy'])"
   ]
  },
  {
   "cell_type": "markdown",
   "metadata": {},
   "source": [
    "# Create a validation set"
   ]
  },
  {
   "cell_type": "code",
   "execution_count": 21,
   "metadata": {},
   "outputs": [],
   "source": [
    "x_val = train_data[:10000]\n",
    "partial_x_train = train_data[10000:]\n",
    "\n",
    "y_val = train_labels[:10000]\n",
    "partial_y_train = train_labels[10000:]"
   ]
  },
  {
   "cell_type": "markdown",
   "metadata": {},
   "source": [
    "# Train the model"
   ]
  },
  {
   "cell_type": "code",
   "execution_count": 22,
   "metadata": {},
   "outputs": [
    {
     "name": "stdout",
     "output_type": "stream",
     "text": [
      "Train on 15000 samples, validate on 10000 samples\n",
      "Epoch 1/40\n",
      "15000/15000 [==============================] - 1s 46us/step - loss: 0.6922 - acc: 0.5203 - val_loss: 0.6914 - val_acc: 0.5425\n",
      "Epoch 2/40\n",
      "15000/15000 [==============================] - 0s 24us/step - loss: 0.6905 - acc: 0.5508 - val_loss: 0.6897 - val_acc: 0.6042\n",
      "Epoch 3/40\n",
      "15000/15000 [==============================] - 0s 23us/step - loss: 0.6885 - acc: 0.6066 - val_loss: 0.6880 - val_acc: 0.5512\n",
      "Epoch 4/40\n",
      "15000/15000 [==============================] - 0s 23us/step - loss: 0.6859 - acc: 0.6385 - val_loss: 0.6853 - val_acc: 0.5964\n",
      "Epoch 5/40\n",
      "15000/15000 [==============================] - 0s 22us/step - loss: 0.6823 - acc: 0.6466 - val_loss: 0.6811 - val_acc: 0.7084\n",
      "Epoch 6/40\n",
      "15000/15000 [==============================] - 0s 23us/step - loss: 0.6775 - acc: 0.7225 - val_loss: 0.6759 - val_acc: 0.7191\n",
      "Epoch 7/40\n",
      "15000/15000 [==============================] - 0s 22us/step - loss: 0.6706 - acc: 0.7365 - val_loss: 0.6690 - val_acc: 0.7182\n",
      "Epoch 8/40\n",
      "15000/15000 [==============================] - 0s 22us/step - loss: 0.6611 - acc: 0.7435 - val_loss: 0.6590 - val_acc: 0.7268\n",
      "Epoch 9/40\n",
      "15000/15000 [==============================] - 0s 22us/step - loss: 0.6483 - acc: 0.7536 - val_loss: 0.6450 - val_acc: 0.7448\n",
      "Epoch 10/40\n",
      "15000/15000 [==============================] - 0s 22us/step - loss: 0.6309 - acc: 0.7689 - val_loss: 0.6269 - val_acc: 0.7521\n",
      "Epoch 11/40\n",
      "15000/15000 [==============================] - 0s 23us/step - loss: 0.6094 - acc: 0.7640 - val_loss: 0.6067 - val_acc: 0.7559\n",
      "Epoch 12/40\n",
      "15000/15000 [==============================] - 0s 23us/step - loss: 0.5844 - acc: 0.7815 - val_loss: 0.5819 - val_acc: 0.7728\n",
      "Epoch 13/40\n",
      "15000/15000 [==============================] - 0s 22us/step - loss: 0.5567 - acc: 0.7959 - val_loss: 0.5575 - val_acc: 0.7834\n",
      "Epoch 14/40\n",
      "15000/15000 [==============================] - 0s 22us/step - loss: 0.5288 - acc: 0.8065 - val_loss: 0.5316 - val_acc: 0.7953\n",
      "Epoch 15/40\n",
      "15000/15000 [==============================] - 0s 24us/step - loss: 0.5005 - acc: 0.8205 - val_loss: 0.5059 - val_acc: 0.8053\n",
      "Epoch 16/40\n",
      "15000/15000 [==============================] - 0s 25us/step - loss: 0.4730 - acc: 0.8273 - val_loss: 0.4815 - val_acc: 0.8141\n",
      "Epoch 17/40\n",
      "15000/15000 [==============================] - 0s 24us/step - loss: 0.4452 - acc: 0.8409 - val_loss: 0.4585 - val_acc: 0.8274\n",
      "Epoch 18/40\n",
      "15000/15000 [==============================] - 0s 27us/step - loss: 0.4198 - acc: 0.8499 - val_loss: 0.4365 - val_acc: 0.8360\n",
      "Epoch 19/40\n",
      "15000/15000 [==============================] - 0s 25us/step - loss: 0.3964 - acc: 0.8597 - val_loss: 0.4172 - val_acc: 0.8408\n",
      "Epoch 20/40\n",
      "15000/15000 [==============================] - 0s 24us/step - loss: 0.3754 - acc: 0.8685 - val_loss: 0.4003 - val_acc: 0.8469\n",
      "Epoch 21/40\n",
      "15000/15000 [==============================] - 0s 24us/step - loss: 0.3565 - acc: 0.8754 - val_loss: 0.3856 - val_acc: 0.8513\n",
      "Epoch 22/40\n",
      "15000/15000 [==============================] - 0s 23us/step - loss: 0.3398 - acc: 0.8800 - val_loss: 0.3729 - val_acc: 0.8555\n",
      "Epoch 23/40\n",
      "15000/15000 [==============================] - 0s 22us/step - loss: 0.3252 - acc: 0.8843 - val_loss: 0.3624 - val_acc: 0.8580\n",
      "Epoch 24/40\n",
      "15000/15000 [==============================] - 0s 24us/step - loss: 0.3116 - acc: 0.8887 - val_loss: 0.3527 - val_acc: 0.8617\n",
      "Epoch 25/40\n",
      "15000/15000 [==============================] - 0s 25us/step - loss: 0.2997 - acc: 0.8933 - val_loss: 0.3445 - val_acc: 0.8660\n",
      "Epoch 26/40\n",
      "15000/15000 [==============================] - 0s 26us/step - loss: 0.2887 - acc: 0.8971 - val_loss: 0.3376 - val_acc: 0.8687\n",
      "Epoch 27/40\n",
      "15000/15000 [==============================] - 0s 27us/step - loss: 0.2791 - acc: 0.8989 - val_loss: 0.3313 - val_acc: 0.8703\n",
      "Epoch 28/40\n",
      "15000/15000 [==============================] - 0s 28us/step - loss: 0.2695 - acc: 0.9041 - val_loss: 0.3254 - val_acc: 0.8725\n",
      "Epoch 29/40\n",
      "15000/15000 [==============================] - 0s 25us/step - loss: 0.2611 - acc: 0.9063 - val_loss: 0.3210 - val_acc: 0.8729\n",
      "Epoch 30/40\n",
      "15000/15000 [==============================] - 0s 27us/step - loss: 0.2540 - acc: 0.9077 - val_loss: 0.3164 - val_acc: 0.8757\n",
      "Epoch 31/40\n",
      "15000/15000 [==============================] - 0s 25us/step - loss: 0.2458 - acc: 0.9114 - val_loss: 0.3128 - val_acc: 0.8764\n",
      "Epoch 32/40\n",
      "15000/15000 [==============================] - 0s 25us/step - loss: 0.2395 - acc: 0.9146 - val_loss: 0.3094 - val_acc: 0.8786\n",
      "Epoch 33/40\n",
      "15000/15000 [==============================] - 0s 24us/step - loss: 0.2321 - acc: 0.9183 - val_loss: 0.3063 - val_acc: 0.8791\n",
      "Epoch 34/40\n",
      "15000/15000 [==============================] - 0s 24us/step - loss: 0.2260 - acc: 0.9201 - val_loss: 0.3039 - val_acc: 0.8794\n",
      "Epoch 35/40\n",
      "15000/15000 [==============================] - 0s 29us/step - loss: 0.2206 - acc: 0.9203 - val_loss: 0.3013 - val_acc: 0.8800\n",
      "Epoch 36/40\n",
      "15000/15000 [==============================] - 0s 30us/step - loss: 0.2144 - acc: 0.9241 - val_loss: 0.2993 - val_acc: 0.8815\n",
      "Epoch 37/40\n",
      "15000/15000 [==============================] - 0s 27us/step - loss: 0.2090 - acc: 0.9257 - val_loss: 0.2975 - val_acc: 0.8808\n",
      "Epoch 38/40\n",
      "15000/15000 [==============================] - 0s 28us/step - loss: 0.2039 - acc: 0.9268 - val_loss: 0.2955 - val_acc: 0.8824\n",
      "Epoch 39/40\n",
      "15000/15000 [==============================] - 0s 25us/step - loss: 0.1986 - acc: 0.9301 - val_loss: 0.2940 - val_acc: 0.8831\n",
      "Epoch 40/40\n",
      "15000/15000 [==============================] - 0s 25us/step - loss: 0.1938 - acc: 0.9308 - val_loss: 0.2926 - val_acc: 0.8831\n"
     ]
    }
   ],
   "source": [
    "history = model.fit(partial_x_train,\n",
    "                   partial_y_train,\n",
    "                   epochs=40,\n",
    "                   batch_size=512,\n",
    "                   validation_data=(x_val, y_val),\n",
    "                   verbose=1)"
   ]
  },
  {
   "cell_type": "markdown",
   "metadata": {},
   "source": [
    "# Evaluate the model"
   ]
  },
  {
   "cell_type": "code",
   "execution_count": 23,
   "metadata": {},
   "outputs": [
    {
     "name": "stdout",
     "output_type": "stream",
     "text": [
      "25000/25000 [==============================] - 0s 14us/step\n",
      "[0.3070756342792511, 0.8742]\n"
     ]
    }
   ],
   "source": [
    "results = model.evaluate(test_data, test_labels)\n",
    "\n",
    "print(results)"
   ]
  },
  {
   "cell_type": "markdown",
   "metadata": {},
   "source": [
    "# Create a graph of accuracy and loss over time"
   ]
  },
  {
   "cell_type": "code",
   "execution_count": 24,
   "metadata": {},
   "outputs": [
    {
     "data": {
      "text/plain": [
       "dict_keys(['val_loss', 'val_acc', 'loss', 'acc'])"
      ]
     },
     "execution_count": 24,
     "metadata": {},
     "output_type": "execute_result"
    }
   ],
   "source": [
    "history_dict = history.history\n",
    "history_dict.keys()"
   ]
  },
  {
   "cell_type": "code",
   "execution_count": 27,
   "metadata": {},
   "outputs": [
    {
     "data": {
      "image/png": "[encoded data removed]",
      "text/plain": [
       "<Figure size 432x288 with 1 Axes>"
      ]
     },
     "metadata": {},
     "output_type": "display_data"
    }
   ],
   "source": [
    "import matplotlib.pyplot as plt\n",
    "%matplotlib inline\n",
    "\n",
    "acc = history.history['acc']\n",
    "val_acc = history.history['val_acc']\n",
    "loss = history.history['loss']\n",
    "val_loss= history.history['val_loss']\n",
    "\n",
    "epochs = range(1, len(acc) + 1)\n",
    "\n",
    "# 'bo' is for 'blue dot'\n",
    "plt.plot(epochs, loss, 'bo', label='Training loss')\n",
    "plt.plot(epochs, val_loss, 'b', label='Validation loss')\n",
    "plt.title('Training and validation loss')\n",
    "plt.xlabel('Epochs')\n",
    "plt.ylabel('Loss')\n",
    "plt.legend()\n",
    "\n",
    "plt.show()\n"
   ]
  },
  {
   "cell_type": "code",
   "execution_count": 28,
   "metadata": {},
   "outputs": [
    {
     "data": {
      "image/png": "[encoded data removed]",
      "text/plain": [
       "<Figure size 432x288 with 1 Axes>"
      ]
     },
     "metadata": {},
     "output_type": "display_data"
    }
   ],
   "source": [
    "plt.clf()\n",
    "acc_values = history.history['acc']\n",
    "val_acc_values = history.history['val_acc']\n",
    "\n",
    "plt.plot(epochs, acc, 'bo', label='Training acc')\n",
    "plt.plot(epochs, val_acc, 'b', label='Validation acc')\n",
    "plt.title('Training and validation accuracy')\n",
    "plt.xlabel('Epochs')\n",
    "plt.ylabel('Accuracy')\n",
    "plt.legend()\n",
    "\n",
    "plt.show()"
   ]
  },
  {
   "cell_type": "code",
   "execution_count": null,
   "metadata": {},
   "outputs": [],
   "source": []
  }
 ],
 "metadata": {
  "kernelspec": {
   "display_name": "tensorflow",
   "language": "python",
   "name": "tensorflow"
  },
  "language_info": {
   "codemirror_mode": {
    "name": "ipython",
    "version": 3
   },
   "file_extension": ".py",
   "mimetype": "text/x-python",
   "name": "python",
   "nbconvert_exporter": "python",
   "pygments_lexer": "ipython3",
   "version": "3.6.6"
  }
 },
 "nbformat": 4,
 "nbformat_minor": 2
}
